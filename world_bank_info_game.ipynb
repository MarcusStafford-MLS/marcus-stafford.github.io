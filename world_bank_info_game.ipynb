{
  "nbformat": 4,
  "nbformat_minor": 0,
  "metadata": {
    "colab": {
      "provenance": [],
      "authorship_tag": "ABX9TyOyFMqi59cAmtoy/kvUzQSp",
      "include_colab_link": true
    },
    "kernelspec": {
      "name": "python3",
      "display_name": "Python 3"
    },
    "language_info": {
      "name": "python"
    }
  },
  "cells": [
    {
      "cell_type": "markdown",
      "metadata": {
        "id": "view-in-github",
        "colab_type": "text"
      },
      "source": [
        "<a href=\"https://colab.research.google.com/github/MarcusStafford-MLS/marcus-stafford.github.io/blob/main/world_bank_info_game.ipynb\" target=\"_parent\"><img src=\"https://colab.research.google.com/assets/colab-badge.svg\" alt=\"Open In Colab\"/></a>"
      ]
    },
    {
      "cell_type": "code",
      "execution_count": null,
      "metadata": {
        "id": "PkWp91Uc9FC6"
      },
      "outputs": [],
      "source": [
        "# Code for challenge exercise goes here\n",
        "import ipywidgets as widgets\n",
        "from IPython.display import display, clear_output\n",
        "import requests\n",
        "import pandas as pd\n",
        "import geopandas as gpd\n",
        "import matplotlib.pyplot as plt\n",
        "import numpy as np\n",
        "\n",
        "variable_options = [\n",
        " ('Total Population', 'SP.POP.TOTL'),\n",
        " ('Population Living in Slums', 'EN.POP.SLUM.UR.ZS'),\n",
        " ('Literacy Rate, adult population', 'SE.ADT.LITR.ZS'),\n",
        " ('Population Density by people per sq. km', 'EN.POP.DNST'),\n",
        " ('Imports of goods and services', 'NE.IMP.GNFS.ZS'),\n",
        " ('Tax Revenue, as a percentage of GDP', 'GC.TAX.TOTL.GD.ZS'),\n",
        " ('Percentage of Total Exports', 'NE.EXP.GNFS.ZS'),\n",
        " ('Electricity access, as a pecentage of the total population', 'EG.ELC.ACCS.ZS'),\n",
        " ('Literacy rate, youth population', 'SE.ADT.1524.LT.ZS'),\n",
        " ('Birth rate, per 1,000', 'SP.DYN.CBRT.IN')]\n",
        "\n",
        "variable_dropdown = widgets.Dropdown(\n",
        "    options = variable_options,\n",
        "    description = 'Variable:',\n",
        "    disabled = False)\n",
        "\n",
        "color_options = ['Purples', 'Blues', 'Greens', 'Greys', 'Oranges']\n",
        "colors_dropdown = widgets.Dropdown(\n",
        "    options = color_options,\n",
        "    description = 'Color:',\n",
        "    disabled = False,)\n",
        "\n",
        "year_options = [2020,2019,2018,2017,2016]\n",
        "years_dropdown = widgets.Dropdown(\n",
        "    options = year_options,\n",
        "    description='Year:',\n",
        "    disabled=False,)\n",
        "\n",
        "grid = widgets.GridspecLayout(1,3,height='60px')\n",
        "grid[0,0] = years_dropdown\n",
        "grid[0,1] = variable_dropdown\n",
        "grid[0,2] = colors_dropdown\n",
        "\n",
        "map_plot = None\n",
        "def map_update(event=None):\n",
        "  global map_plot\n",
        "  clear_output(wait=True)\n",
        "  display(grid)\n",
        "\n",
        "  url_get = 'https://api.worldbank.org/v2/country/all/indicator/' + str(variable_dropdown.value) + '?format=json&per_page=500&date=' + str(years_dropdown.value)\n",
        "  response_ = requests.get(url_get)\n",
        "  r_json = response_.json()\n",
        "  df = pd.DataFrame(r_json[1])\n",
        "  df_sub = df[['countryiso3code','value']]\n",
        "\n",
        "  world_map = gpd.read_file(gpd.datasets.get_path('naturalearth_lowres'))\n",
        "  merged_df_ = world_map.merge(df_sub, left_on = 'iso_a3', right_on = 'countryiso3code')\n",
        "\n",
        "  ax = merged_df_.plot(column = 'value',scheme='quantiles', legend = True, legend_kwds={'loc': 'lower left'}, cmap=colors_dropdown.value, figsize=(14,10))\n",
        "  merged_df_.hist('value', color='Red', alpha=0.8, edgecolor='black', figsize = (10,4))\n",
        "  plt.title('Histogram of Values')\n",
        "\n",
        "map_update()\n",
        "years_dropdown.observe(map_update,names = 'value')\n",
        "variable_dropdown.observe(map_update,names = 'value')\n",
        "colors_dropdown.observe(map_update, names = 'value')"
      ]
    }
  ]
}